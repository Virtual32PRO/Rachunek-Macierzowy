{
 "cells": [
  {
   "cell_type": "code",
   "execution_count": 44,
   "id": "34d9cb0f",
   "metadata": {},
   "outputs": [],
   "source": [
    "import numpy as np"
   ]
  },
  {
   "cell_type": "code",
   "execution_count": 45,
   "id": "1cf65df5",
   "metadata": {},
   "outputs": [],
   "source": [
    "R=13\n",
    "A = (np.random.random((R, R)) * 10).round(2)\n",
    "b = np.random.randint(1, 10, size=(R, 1))\n",
    "B=b.copy()"
   ]
  },
  {
   "cell_type": "code",
   "execution_count": 46,
   "id": "d80d0d8a",
   "metadata": {},
   "outputs": [],
   "source": [
    "np.set_printoptions(precision=4, suppress=True, linewidth=np.inf)"
   ]
  },
  {
   "cell_type": "code",
   "execution_count": 47,
   "id": "2eb76e9e",
   "metadata": {},
   "outputs": [],
   "source": [
    "import time"
   ]
  },
  {
   "cell_type": "markdown",
   "id": "91d2fdc4",
   "metadata": {},
   "source": [
    "### Algorytm eliminacji Gaussa bez pivotingu generujący jedynki na przekątnej"
   ]
  },
  {
   "cell_type": "code",
   "execution_count": 48,
   "id": "db74a5dd",
   "metadata": {},
   "outputs": [],
   "source": [
    "def gauss_elimination(A, b):\n",
    "    \n",
    "    A = A.copy().astype(float)\n",
    "    b = b.copy().astype(float)\n",
    "    n = len(b)\n",
    "\n",
    "    # Eliminacja w przód\n",
    "    for i in range(n):\n",
    "        # Tworzymy 1 na przekątnej przez dzielenie całego wiersza\n",
    "        diagonal = A[i, i]\n",
    "        A[i] = A[i] / diagonal\n",
    "        b[i] = b[i] / diagonal\n",
    "\n",
    "        # Eliminacja elementów poniżej\n",
    "        for j in range(i+1, n):\n",
    "            multiplier = A[j, i]\n",
    "            A[j] = A[j] - multiplier * A[i]\n",
    "            b[j] = b[j] - multiplier * b[i]\n",
    "\n",
    "    # Podstawianie wsteczne\n",
    "    x = np.zeros(n)\n",
    "    for i in range(n-1, -1, -1):\n",
    "        x[i] = (b[i] - np.dot(A[i, i+1:], x[i+1:])).item()\n",
    "\n",
    "    return x"
   ]
  },
  {
   "cell_type": "code",
   "execution_count": 49,
   "id": "f2a627a6",
   "metadata": {},
   "outputs": [
    {
     "data": {
      "text/plain": [
       "'Rozwiązanie:'"
      ]
     },
     "metadata": {},
     "output_type": "display_data"
    },
    {
     "data": {
      "text/plain": [
       "array([-1.6949,  1.8708,  0.7768,  1.0932, -0.3524,  2.0929,  1.1428, -0.332 ,  0.3586, -1.5577, -1.0116, -1.2818,  0.2741])"
      ]
     },
     "metadata": {},
     "output_type": "display_data"
    }
   ],
   "source": [
    "start = time.time()    \n",
    "x = gauss_elimination(A, b)\n",
    "display(\"Rozwiązanie:\", x)\n",
    "end = time.time()   "
   ]
  },
  {
   "cell_type": "code",
   "execution_count": 50,
   "id": "5c496e56",
   "metadata": {},
   "outputs": [
    {
     "data": {
      "text/plain": [
       "array([4., 9., 3., 2., 9., 7., 2., 7., 8., 8., 2., 9., 7.])"
      ]
     },
     "metadata": {},
     "output_type": "display_data"
    },
    {
     "data": {
      "text/plain": [
       "'Rozwiązanie:'"
      ]
     },
     "metadata": {},
     "output_type": "display_data"
    },
    {
     "data": {
      "text/plain": [
       "array([-1.6949,  1.8708,  0.7768,  1.0932, -0.3524,  2.0929,  1.1428, -0.332 ,  0.3586, -1.5577, -1.0116, -1.2818,  0.2741])"
      ]
     },
     "metadata": {},
     "output_type": "display_data"
    },
    {
     "name": "stdout",
     "output_type": "stream",
     "text": [
      "Czas wykonania: 0.004109 sekund\n"
     ]
    }
   ],
   "source": [
    "b_uzyskane = A @ x\n",
    "display(b_uzyskane)\n",
    "display(\"Rozwiązanie:\", x)\n",
    "print(f\"Czas wykonania: {end - start:.6f} sekund\")\n"
   ]
  },
  {
   "cell_type": "code",
   "execution_count": 51,
   "id": "a6fa6f81",
   "metadata": {},
   "outputs": [
    {
     "data": {
      "text/plain": [
       "array([4, 9, 3, 2, 9, 7, 2, 7, 8, 8, 2, 9, 7])"
      ]
     },
     "metadata": {},
     "output_type": "display_data"
    }
   ],
   "source": [
    "display(b.flatten())"
   ]
  },
  {
   "cell_type": "code",
   "execution_count": 52,
   "id": "2492c6e2",
   "metadata": {},
   "outputs": [
    {
     "data": {
      "text/plain": [
       "array([[0.1 , 8.29, 8.73, 1.88, 4.79, 3.82, 0.43, 4.5 , 9.85, 6.57, 6.49, 9.75, 1.04],\n",
       "       [4.8 , 6.9 , 0.34, 6.41, 4.89, 1.95, 2.34, 0.72, 2.07, 0.69, 1.8 , 6.56, 9.94],\n",
       "       [8.93, 7.73, 6.27, 5.16, 0.62, 1.52, 8.71, 6.65, 8.35, 6.23, 3.85, 6.11, 3.25],\n",
       "       [6.56, 8.3 , 3.79, 9.55, 8.17, 8.42, 2.18, 8.33, 6.2 , 9.64, 5.57, 9.63, 1.86],\n",
       "       [1.48, 3.52, 0.09, 9.5 , 1.91, 3.55, 7.15, 0.25, 7.65, 5.43, 3.91, 8.96, 2.84],\n",
       "       [8.32, 8.33, 5.51, 1.15, 8.81, 4.44, 6.26, 6.02, 6.73, 0.84, 7.35, 3.96, 0.16],\n",
       "       [9.21, 0.75, 8.72, 9.61, 5.41, 6.3 , 0.07, 8.21, 7.81, 0.12, 6.19, 6.34, 7.55],\n",
       "       [3.13, 7.91, 1.35, 7.44, 4.09, 1.53, 5.55, 5.77, 9.05, 6.25, 2.85, 7.01, 1.81],\n",
       "       [5.1 , 2.29, 7.79, 3.48, 3.13, 9.77, 4.54, 8.75, 4.14, 5.11, 8.14, 5.19, 8.17],\n",
       "       [9.28, 3.74, 9.97, 4.77, 7.5 , 8.98, 3.79, 0.17, 3.88, 7.21, 6.96, 1.61, 8.36],\n",
       "       [2.66, 6.95, 8.  , 0.64, 2.71, 2.13, 8.13, 4.69, 1.38, 8.05, 2.98, 8.23, 3.52],\n",
       "       [9.67, 2.75, 6.91, 2.84, 5.17, 8.7 , 2.14, 7.28, 6.29, 4.46, 1.45, 0.01, 5.58],\n",
       "       [8.49, 9.44, 3.76, 2.6 , 7.86, 2.02, 9.41, 1.87, 6.9 , 6.89, 2.35, 3.79, 6.82]])"
      ]
     },
     "metadata": {},
     "output_type": "display_data"
    }
   ],
   "source": [
    "display(A)"
   ]
  },
  {
   "cell_type": "markdown",
   "id": "8502d7c8",
   "metadata": {},
   "source": [
    "### Algorytm eliminacji Gaussa z pivotingiem"
   ]
  },
  {
   "cell_type": "code",
   "execution_count": 53,
   "id": "557c07db",
   "metadata": {},
   "outputs": [],
   "source": [
    "\n",
    "def gauss_elimination_with_partial_pivoting(A, b):\n",
    "    \"\"\"\n",
    "    Eliminacja Gaussa z częściowym pivotingiem.\n",
    "    \n",
    "    A: ndarray kształtu (n, n)\n",
    "    b: ndarray kształtu (n,)\n",
    "    \n",
    "    Zwraca wektor x (ndarray) o długości n, będący rozwiązaniem A x = b.\n",
    "    \"\"\"\n",
    "    A = A.copy().astype(float)\n",
    "    b = b.copy().astype(float).reshape(-1)\n",
    "    n = len(b)\n",
    "\n",
    "    # Eliminacja w przód\n",
    "    for i in range(n):\n",
    "        # 1) Znajdź wiersz z największym (modułowo) elementem w kolumnie i (od wiersza i do n-1)\n",
    "        max_row = i + np.argmax(np.abs(A[i:, i]))\n",
    "\n",
    "        # 2) Zamiana wierszy i <-> max_row (jeśli różne)\n",
    "        if max_row != i:\n",
    "            A[[i, max_row], :] = A[[max_row, i], :]\n",
    "            b[i], b[max_row] = b[max_row], b[i]\n",
    "\n",
    "        # 3) Wyzerowanie elementów w kolumnie i, w wierszach poniżej i\n",
    "        pivot = A[i, i]\n",
    "        for j in range(i+1, n):\n",
    "            factor = A[j, i] / pivot\n",
    "            A[j, i:] -= factor * A[i, i:]\n",
    "            b[j] -= factor * float(b[i])\n",
    "\n",
    "    # Podstawianie wsteczne\n",
    "    x = np.zeros(n, dtype=float)\n",
    "    for i in range(n-1, -1, -1):\n",
    "        x[i] = ((b[i] - np.dot(A[i, i+1:], x[i+1:])) / A[i, i]).item()\n",
    "\n",
    "    return x"
   ]
  },
  {
   "cell_type": "code",
   "execution_count": 54,
   "id": "fb92f077",
   "metadata": {},
   "outputs": [
    {
     "data": {
      "text/plain": [
       "'Rozwiązanie:'"
      ]
     },
     "metadata": {},
     "output_type": "display_data"
    },
    {
     "data": {
      "text/plain": [
       "array([-1.6949,  1.8708,  0.7768,  1.0932, -0.3524,  2.0929,  1.1428, -0.332 ,  0.3586, -1.5577, -1.0116, -1.2818,  0.2741])"
      ]
     },
     "metadata": {},
     "output_type": "display_data"
    },
    {
     "name": "stdout",
     "output_type": "stream",
     "text": [
      "Czas wykonania: 0.001004 sekund\n"
     ]
    }
   ],
   "source": [
    "start = time.time()    \n",
    "x = gauss_elimination_with_partial_pivoting(A, b)\n",
    "end = time.time()   \n",
    "display(\"Rozwiązanie:\", x)\n",
    "print(f\"Czas wykonania: {end - start:.6f} sekund\")"
   ]
  },
  {
   "cell_type": "code",
   "execution_count": 55,
   "id": "084c0e85",
   "metadata": {},
   "outputs": [
    {
     "data": {
      "text/plain": [
       "array([[0.1 , 8.29, 8.73, 1.88, 4.79, 3.82, 0.43, 4.5 , 9.85, 6.57, 6.49, 9.75, 1.04],\n",
       "       [4.8 , 6.9 , 0.34, 6.41, 4.89, 1.95, 2.34, 0.72, 2.07, 0.69, 1.8 , 6.56, 9.94],\n",
       "       [8.93, 7.73, 6.27, 5.16, 0.62, 1.52, 8.71, 6.65, 8.35, 6.23, 3.85, 6.11, 3.25],\n",
       "       [6.56, 8.3 , 3.79, 9.55, 8.17, 8.42, 2.18, 8.33, 6.2 , 9.64, 5.57, 9.63, 1.86],\n",
       "       [1.48, 3.52, 0.09, 9.5 , 1.91, 3.55, 7.15, 0.25, 7.65, 5.43, 3.91, 8.96, 2.84],\n",
       "       [8.32, 8.33, 5.51, 1.15, 8.81, 4.44, 6.26, 6.02, 6.73, 0.84, 7.35, 3.96, 0.16],\n",
       "       [9.21, 0.75, 8.72, 9.61, 5.41, 6.3 , 0.07, 8.21, 7.81, 0.12, 6.19, 6.34, 7.55],\n",
       "       [3.13, 7.91, 1.35, 7.44, 4.09, 1.53, 5.55, 5.77, 9.05, 6.25, 2.85, 7.01, 1.81],\n",
       "       [5.1 , 2.29, 7.79, 3.48, 3.13, 9.77, 4.54, 8.75, 4.14, 5.11, 8.14, 5.19, 8.17],\n",
       "       [9.28, 3.74, 9.97, 4.77, 7.5 , 8.98, 3.79, 0.17, 3.88, 7.21, 6.96, 1.61, 8.36],\n",
       "       [2.66, 6.95, 8.  , 0.64, 2.71, 2.13, 8.13, 4.69, 1.38, 8.05, 2.98, 8.23, 3.52],\n",
       "       [9.67, 2.75, 6.91, 2.84, 5.17, 8.7 , 2.14, 7.28, 6.29, 4.46, 1.45, 0.01, 5.58],\n",
       "       [8.49, 9.44, 3.76, 2.6 , 7.86, 2.02, 9.41, 1.87, 6.9 , 6.89, 2.35, 3.79, 6.82]])"
      ]
     },
     "metadata": {},
     "output_type": "display_data"
    }
   ],
   "source": [
    "display(A)"
   ]
  },
  {
   "cell_type": "code",
   "execution_count": 56,
   "id": "dd0e8d99",
   "metadata": {},
   "outputs": [
    {
     "data": {
      "text/plain": [
       "array([4., 9., 3., 2., 9., 7., 2., 7., 8., 8., 2., 9., 7.])"
      ]
     },
     "metadata": {},
     "output_type": "display_data"
    }
   ],
   "source": [
    "b_uzyskane = A @ x\n",
    "display(b_uzyskane)\n"
   ]
  },
  {
   "cell_type": "code",
   "execution_count": 57,
   "id": "cdf60218",
   "metadata": {},
   "outputs": [
    {
     "data": {
      "text/plain": [
       "array([[4],\n",
       "       [9],\n",
       "       [3],\n",
       "       [2],\n",
       "       [9],\n",
       "       [7],\n",
       "       [2],\n",
       "       [7],\n",
       "       [8],\n",
       "       [8],\n",
       "       [2],\n",
       "       [9],\n",
       "       [7]])"
      ]
     },
     "metadata": {},
     "output_type": "display_data"
    }
   ],
   "source": [
    "display(b)"
   ]
  },
  {
   "cell_type": "markdown",
   "id": "fb041277",
   "metadata": {},
   "source": [
    "### Algorytm LU faktoryzacji bez pivotingu"
   ]
  },
  {
   "cell_type": "code",
   "execution_count": 58,
   "id": "3a84a035",
   "metadata": {},
   "outputs": [],
   "source": [
    "np.set_printoptions()"
   ]
  },
  {
   "cell_type": "code",
   "execution_count": 59,
   "id": "c1062189",
   "metadata": {},
   "outputs": [
    {
     "data": {
      "text/plain": [
       "'Macierz L (dolna trójkątna):'"
      ]
     },
     "metadata": {},
     "output_type": "display_data"
    },
    {
     "data": {
      "text/plain": [
       "array([[ 1.    ,  0.    ,  0.    ,  0.    ,  0.    ,  0.    ,  0.    ,  0.    ,  0.    ,  0.    ,  0.    ,  0.    ,  0.    ],\n",
       "       [48.    ,  1.    ,  0.    ,  0.    ,  0.    ,  0.    ,  0.    ,  0.    ,  0.    ,  0.    ,  0.    ,  0.    ,  0.    ],\n",
       "       [89.3   ,  1.8735,  1.    ,  0.    ,  0.    ,  0.    ,  0.    ,  0.    ,  0.    ,  0.    ,  0.    ,  0.    ,  0.    ],\n",
       "       [65.6   ,  1.3696,  0.4084,  1.    ,  0.    ,  0.    ,  0.    ,  0.    ,  0.    ,  0.    ,  0.    ,  0.    ,  0.    ],\n",
       "       [14.8   ,  0.3048, -0.1356,  1.9286,  1.    ,  0.    ,  0.    ,  0.    ,  0.    ,  0.    ,  0.    ,  0.    ,  0.    ],\n",
       "       [83.2   ,  1.7426,  0.7931, -1.3997, -1.3465,  1.    ,  0.    ,  0.    ,  0.    ,  0.    ,  0.    ,  0.    ,  0.    ],\n",
       "       [92.1   ,  1.9507,  1.9306,  3.2668,  0.0481,  6.9544,  1.    ,  0.    ,  0.    ,  0.    ,  0.    ,  0.    ,  0.    ],\n",
       "       [31.3   ,  0.6434, -0.2272,  0.3705,  0.41  , -0.2174, -0.0399,  1.    ,  0.    ,  0.    ,  0.    ,  0.    ,  0.    ],\n",
       "       [51.    ,  1.0754,  1.155 ,  1.2843, -0.1643, -0.1386, -0.0508, -0.8728,  1.    ,  0.    ,  0.    ,  0.    ,  0.    ],\n",
       "       [92.8   ,  1.9579,  1.7641,  1.326 , -0.7793,  3.7759,  0.4566, -1.8888,  0.3245,  1.    ,  0.    ,  0.    ,  0.    ],\n",
       "       [26.6   ,  0.5462,  0.402 , -0.3893, -0.2221,  0.1336, -0.0589,  0.1192,  3.4914,  2.4117,  1.    ,  0.    ,  0.    ],\n",
       "       [96.7   ,  2.0431,  1.6356,  0.4755, -0.9033,  1.2079,  0.1293, -1.1464, -1.468 , -0.9863, -2.3637,  1.    ,  0.    ],\n",
       "       [84.9   ,  1.7758,  0.5509, -1.4999, -1.0848,  0.827 , -0.0307, -0.0431,  0.0638,  0.8541, -0.404 ,  0.3406,  1.    ]])"
      ]
     },
     "metadata": {},
     "output_type": "display_data"
    },
    {
     "data": {
      "text/plain": [
       "'Macierz U (górna trójkątna):'"
      ]
     },
     "metadata": {},
     "output_type": "display_data"
    },
    {
     "data": {
      "text/plain": [
       "array([[   0.1   ,    8.29  ,    8.73  ,    1.88  ,    4.79  ,    3.82  ,    0.43  ,    4.5   ,    9.85  ,    6.57  ,    6.49  ,    9.75  ,    1.04  ],\n",
       "       [   0.    , -391.02  , -418.7   ,  -83.83  , -225.03  , -181.41  ,  -18.3   , -215.28  , -470.73  , -314.67  , -309.72  , -461.44  ,  -39.98  ],\n",
       "       [   0.    ,    0.    ,   11.1058,   -5.6704,   -5.5385,    0.2615,    4.5956,    8.1221,   10.6469,    9.056 ,    4.5463,   -0.0677,  -14.7204],\n",
       "       [   0.    ,    0.    ,    0.    ,    3.3476,    4.3991,    6.1725,   -2.8418,    4.6513,    0.3835,    5.9081,    2.1485,    2.0258,   -5.5977],\n",
       "       [   0.    ,    0.    ,    0.    ,    0.    ,   -9.6342,   -9.5661,   12.4673,   -8.6078,    6.0395,   -6.0699,   -1.2751,    1.3778,    8.4326],\n",
       "       [   0.    ,    0.    ,    0.    ,    0.    ,    0.    ,   -1.7048,   11.539 ,   -4.7512,    7.7373,   -4.5206,    4.79  ,    1.6175,   -1.5043],\n",
       "       [   0.    ,    0.    ,    0.    ,    0.    ,    0.    ,    0.    ,  -84.2708,   16.2849,  -57.0333,    3.7926,  -36.4171,   -9.3107,   46.5165],\n",
       "       [   0.    ,    0.    ,    0.    ,    0.    ,    0.    ,    0.    ,    0.    ,    6.6905,    2.8044,    4.5813,   -0.6755,   -2.6429,   -8.222 ],\n",
       "       [   0.    ,    0.    ,    0.    ,    0.    ,    0.    ,    0.    ,    0.    ,    0.    ,   -3.1635,   -7.0458,    0.2262,   -0.6834,   18.6773],\n",
       "       [   0.    ,    0.    ,    0.    ,    0.    ,    0.    ,    0.    ,    0.    ,    0.    ,    0.    ,   11.338 ,   -3.5867,   -7.8631,   -7.0623],\n",
       "       [   0.    ,    0.    ,    0.    ,    0.    ,    0.    ,    0.    ,    0.    ,    0.    ,    0.    ,    0.    ,    3.3894,   22.928 ,  -40.9554],\n",
       "       [   0.    ,    0.    ,    0.    ,    0.    ,    0.    ,    0.    ,    0.    ,    0.    ,    0.    ,    0.    ,    0.    ,   42.0023,  -68.9246],\n",
       "       [   0.    ,    0.    ,    0.    ,    0.    ,    0.    ,    0.    ,    0.    ,    0.    ,    0.    ,    0.    ,    0.    ,    0.    ,   12.4689]])"
      ]
     },
     "metadata": {},
     "output_type": "display_data"
    },
    {
     "data": {
      "text/plain": [
       "'Rozwiązanie z numpy.linalg.solve (kontrola):'"
      ]
     },
     "metadata": {},
     "output_type": "display_data"
    },
    {
     "data": {
      "text/plain": [
       "array([[-1.6949],\n",
       "       [ 1.8708],\n",
       "       [ 0.7768],\n",
       "       [ 1.0932],\n",
       "       [-0.3524],\n",
       "       [ 2.0929],\n",
       "       [ 1.1428],\n",
       "       [-0.332 ],\n",
       "       [ 0.3586],\n",
       "       [-1.5577],\n",
       "       [-1.0116],\n",
       "       [-1.2818],\n",
       "       [ 0.2741]])"
      ]
     },
     "metadata": {},
     "output_type": "display_data"
    },
    {
     "data": {
      "text/plain": [
       "'Rozwiązanie x:'"
      ]
     },
     "metadata": {},
     "output_type": "display_data"
    },
    {
     "data": {
      "text/plain": [
       "array([[-1.6949],\n",
       "       [ 1.8708],\n",
       "       [ 0.7768],\n",
       "       [ 1.0932],\n",
       "       [-0.3524],\n",
       "       [ 2.0929],\n",
       "       [ 1.1428],\n",
       "       [-0.332 ],\n",
       "       [ 0.3586],\n",
       "       [-1.5577],\n",
       "       [-1.0116],\n",
       "       [-1.2818],\n",
       "       [ 0.2741]])"
      ]
     },
     "metadata": {},
     "output_type": "display_data"
    },
    {
     "data": {
      "text/plain": [
       "'Sprawdzenie: L @ U @ x ='"
      ]
     },
     "metadata": {},
     "output_type": "display_data"
    },
    {
     "data": {
      "text/plain": [
       "array([[4.],\n",
       "       [9.],\n",
       "       [3.],\n",
       "       [2.],\n",
       "       [9.],\n",
       "       [7.],\n",
       "       [2.],\n",
       "       [7.],\n",
       "       [8.],\n",
       "       [8.],\n",
       "       [2.],\n",
       "       [9.],\n",
       "       [7.]])"
      ]
     },
     "metadata": {},
     "output_type": "display_data"
    },
    {
     "data": {
      "text/plain": [
       "'Oryginalny wektor B:'"
      ]
     },
     "metadata": {},
     "output_type": "display_data"
    },
    {
     "data": {
      "text/plain": [
       "array([[4],\n",
       "       [9],\n",
       "       [3],\n",
       "       [2],\n",
       "       [9],\n",
       "       [7],\n",
       "       [2],\n",
       "       [7],\n",
       "       [8],\n",
       "       [8],\n",
       "       [2],\n",
       "       [9],\n",
       "       [7]])"
      ]
     },
     "metadata": {},
     "output_type": "display_data"
    },
    {
     "name": "stdout",
     "output_type": "stream",
     "text": [
      "Czas wykonania: 0.011038 sekund\n"
     ]
    }
   ],
   "source": [
    "\n",
    "from IPython.display import display\n",
    "\n",
    "#A = (np.random.random(9).reshape((3,3))*10).round()\n",
    "#B = (np.ones(3).reshape((3,1))*10).round()\n",
    "\n",
    "\"\"\"A = np.array([\n",
    "    [1, 5, 2],\n",
    "    [1, 2, -3],\n",
    "    [2, 4, 1]\n",
    "], dtype=float)\n",
    "\n",
    "B = np.array([\n",
    "    [1],\n",
    "    [-5],\n",
    "    [4]\n",
    "], dtype=float)\n",
    "\"\"\"\n",
    "start = time.time()   \n",
    "O = np.identity(R)\n",
    "\n",
    "# Początkowe dane\n",
    "#display(\"Macierz jednostkowa (startowa L):\", O)\n",
    "#display(\"Macierz A:\", A)\n",
    "#display(\"Wektor B:\", B)\n",
    "\n",
    "A_work = A.copy().astype(float)\n",
    "B_work = B.copy().astype(float)\n",
    "x1 = np.linalg.solve(A, B)\n",
    "n = len(A)\n",
    "\n",
    "# Eliminacja Gaussa (bez pivotingu)\n",
    "for i in range(n-1):\n",
    "    for j in range(i+1,n):\n",
    "        div = (A_work[j,i]/A_work[i,i])\n",
    "        # display(f\"Dzielnik dla A[{j},{i}]/A[{i},{i}] = {div}\")\n",
    "        # display(\"Mnożnik (L-row):\", O[i]*div)\n",
    "        O[j,i] = div\n",
    "        A_work[j] -= A_work[i]*div\n",
    "        # display(\"Aktualna macierz L:\", O)\n",
    "\n",
    "# Zaokrąglanie zer bliskich 0\n",
    "A_work[abs(A_work) < 0.00001] = 0.0\n",
    "\n",
    "# L i U gotowe\n",
    "display(\"Macierz L (dolna trójkątna):\", O)\n",
    "display(\"Macierz U (górna trójkątna):\", A_work)\n",
    "#display(\"Wektor B:\", B)\n",
    "display(\"Rozwiązanie z numpy.linalg.solve (kontrola):\", x1)\n",
    "\n",
    "L = O\n",
    "U = A_work\n",
    "\n",
    "# mamy L i U - koniec, finito\n",
    "C = np.zeros((R,1))\n",
    "C[0] = B_work[0]\n",
    "for i in range(1,n):\n",
    "    known_c_sum = 0\n",
    "    for j in range(0,i):\n",
    "        known_c_sum += L[i,j] * C[j]\n",
    "    C[i] = B_work[i]-known_c_sum\n",
    "\n",
    "# Podstawianie wsteczne\n",
    "x = np.zeros((R,1))\n",
    "x[n-1,0] = C[n-1,0]/U[n-1,n-1]\n",
    "\n",
    "for i in range(n-2,-1,-1):\n",
    "    known_xu_sum = 0\n",
    "    for j in range(i+1,n):\n",
    "        known_xu_sum += U[i,j] * x[j,0]\n",
    "    x[i,0] = (C[i,0]-known_xu_sum)/U[i,i]\n",
    "end = time.time()  \n",
    "# Wyniki końcowe\n",
    "display(\"Rozwiązanie x:\", x)\n",
    "display(\"Sprawdzenie: L @ U @ x =\", L @ U @ x)\n",
    "display(\"Oryginalny wektor B:\", B)\n",
    "print(f\"Czas wykonania: {end - start:.6f} sekund\")"
   ]
  },
  {
   "cell_type": "markdown",
   "id": "6ef6acd3",
   "metadata": {},
   "source": [
    "### Algorytm LU faktoryzacji z pivotingiem"
   ]
  },
  {
   "cell_type": "code",
   "execution_count": 60,
   "id": "b361832b",
   "metadata": {},
   "outputs": [
    {
     "data": {
      "text/plain": [
       "'Macierz A (oryginalna):'"
      ]
     },
     "metadata": {},
     "output_type": "display_data"
    },
    {
     "data": {
      "text/plain": [
       "array([[0.1 , 8.29, 8.73, 1.88, 4.79, 3.82, 0.43, 4.5 , 9.85, 6.57, 6.49, 9.75, 1.04],\n",
       "       [4.8 , 6.9 , 0.34, 6.41, 4.89, 1.95, 2.34, 0.72, 2.07, 0.69, 1.8 , 6.56, 9.94],\n",
       "       [8.93, 7.73, 6.27, 5.16, 0.62, 1.52, 8.71, 6.65, 8.35, 6.23, 3.85, 6.11, 3.25],\n",
       "       [6.56, 8.3 , 3.79, 9.55, 8.17, 8.42, 2.18, 8.33, 6.2 , 9.64, 5.57, 9.63, 1.86],\n",
       "       [1.48, 3.52, 0.09, 9.5 , 1.91, 3.55, 7.15, 0.25, 7.65, 5.43, 3.91, 8.96, 2.84],\n",
       "       [8.32, 8.33, 5.51, 1.15, 8.81, 4.44, 6.26, 6.02, 6.73, 0.84, 7.35, 3.96, 0.16],\n",
       "       [9.21, 0.75, 8.72, 9.61, 5.41, 6.3 , 0.07, 8.21, 7.81, 0.12, 6.19, 6.34, 7.55],\n",
       "       [3.13, 7.91, 1.35, 7.44, 4.09, 1.53, 5.55, 5.77, 9.05, 6.25, 2.85, 7.01, 1.81],\n",
       "       [5.1 , 2.29, 7.79, 3.48, 3.13, 9.77, 4.54, 8.75, 4.14, 5.11, 8.14, 5.19, 8.17],\n",
       "       [9.28, 3.74, 9.97, 4.77, 7.5 , 8.98, 3.79, 0.17, 3.88, 7.21, 6.96, 1.61, 8.36],\n",
       "       [2.66, 6.95, 8.  , 0.64, 2.71, 2.13, 8.13, 4.69, 1.38, 8.05, 2.98, 8.23, 3.52],\n",
       "       [9.67, 2.75, 6.91, 2.84, 5.17, 8.7 , 2.14, 7.28, 6.29, 4.46, 1.45, 0.01, 5.58],\n",
       "       [8.49, 9.44, 3.76, 2.6 , 7.86, 2.02, 9.41, 1.87, 6.9 , 6.89, 2.35, 3.79, 6.82]])"
      ]
     },
     "metadata": {},
     "output_type": "display_data"
    },
    {
     "data": {
      "text/plain": [
       "'Macierz permutacji P:'"
      ]
     },
     "metadata": {},
     "output_type": "display_data"
    },
    {
     "data": {
      "text/plain": [
       "array([[0., 0., 0., 0., 0., 0., 0., 0., 0., 0., 0., 1., 0.],\n",
       "       [1., 0., 0., 0., 0., 0., 0., 0., 0., 0., 0., 0., 0.],\n",
       "       [0., 0., 0., 0., 0., 0., 0., 0., 0., 0., 0., 0., 1.],\n",
       "       [0., 0., 0., 0., 1., 0., 0., 0., 0., 0., 0., 0., 0.],\n",
       "       [0., 0., 1., 0., 0., 0., 0., 0., 0., 0., 0., 0., 0.],\n",
       "       [0., 0., 0., 0., 0., 0., 1., 0., 0., 0., 0., 0., 0.],\n",
       "       [0., 0., 0., 1., 0., 0., 0., 0., 0., 0., 0., 0., 0.],\n",
       "       [0., 0., 0., 0., 0., 0., 0., 0., 0., 1., 0., 0., 0.],\n",
       "       [0., 0., 0., 0., 0., 0., 0., 0., 0., 0., 1., 0., 0.],\n",
       "       [0., 1., 0., 0., 0., 0., 0., 0., 0., 0., 0., 0., 0.],\n",
       "       [0., 0., 0., 0., 0., 1., 0., 0., 0., 0., 0., 0., 0.],\n",
       "       [0., 0., 0., 0., 0., 0., 0., 1., 0., 0., 0., 0., 0.],\n",
       "       [0., 0., 0., 0., 0., 0., 0., 0., 1., 0., 0., 0., 0.]])"
      ]
     },
     "metadata": {},
     "output_type": "display_data"
    },
    {
     "data": {
      "text/plain": [
       "'Macierz dolna L:'"
      ]
     },
     "metadata": {},
     "output_type": "display_data"
    },
    {
     "data": {
      "text/plain": [
       "array([[ 1.    ,  0.    ,  0.    ,  0.    ,  0.    ,  0.    ,  0.    ,  0.    ,  0.    ,  0.    ,  0.    ,  0.    ,  0.    ],\n",
       "       [ 0.0103,  1.    ,  0.    ,  0.    ,  0.    ,  0.    ,  0.    ,  0.    ,  0.    ,  0.    ,  0.    ,  0.    ,  0.    ],\n",
       "       [ 0.878 ,  0.8504,  1.    ,  0.    ,  0.    ,  0.    ,  0.    ,  0.    ,  0.    ,  0.    ,  0.    ,  0.    ,  0.    ],\n",
       "       [ 0.1531,  0.3751,  0.4359,  1.    ,  0.    ,  0.    ,  0.    ,  0.    ,  0.    ,  0.    ,  0.    ,  0.    ,  0.    ],\n",
       "       [ 0.9235,  0.6283,  0.5741,  0.246 ,  1.    ,  0.    ,  0.    ,  0.    ,  0.    ,  0.    ,  0.    ,  0.    ,  0.    ],\n",
       "       [ 0.9524, -0.2263, -0.4238,  0.7438, -0.2287,  1.    ,  0.    ,  0.    ,  0.    ,  0.    ,  0.    ,  0.    ,  0.    ],\n",
       "       [ 0.6784,  0.7788,  0.7902,  0.8147, -0.2738, -0.1493,  1.    ,  0.    ,  0.    ,  0.    ,  0.    ,  0.    ,  0.    ],\n",
       "       [ 0.9597,  0.1333, -0.2259,  0.1627, -0.2718,  0.4182, -0.4554,  1.    ,  0.    ,  0.    ,  0.    ,  0.    ,  0.    ],\n",
       "       [ 0.2751,  0.7497,  0.0405, -0.163 ,  0.3452,  0.0247, -0.8896, -0.7979,  1.    ,  0.    ,  0.    ,  0.    ,  0.    ],\n",
       "       [ 0.4964,  0.67  ,  0.9194,  0.567 ,  0.0002, -0.0611,  0.9703,  0.81  , -0.4059,  1.    ,  0.    ,  0.    ,  0.    ],\n",
       "       [ 0.8604,  0.7219,  0.6914, -0.1792, -0.2062, -0.016 , -0.01  , -0.5033,  0.231 ,  0.9408,  1.    ,  0.    ,  0.    ],\n",
       "       [ 0.3237,  0.8497,  0.8525,  0.688 ,  0.1152, -0.0433,  0.5394, -0.4545, -0.0141, -0.1305, -0.1153,  1.    ,  0.    ],\n",
       "       [ 0.5274,  0.1016, -0.3377,  0.1441,  0.0401, -0.144 , -0.6403, -0.8673,  0.8235,  0.373 ,  0.871 , -0.0799,  1.    ]])"
      ]
     },
     "metadata": {},
     "output_type": "display_data"
    },
    {
     "data": {
      "text/plain": [
       "'Macierz górna U:'"
      ]
     },
     "metadata": {},
     "output_type": "display_data"
    },
    {
     "data": {
      "text/plain": [
       "array([[  9.67  ,   2.75  ,   6.91  ,   2.84  ,   5.17  ,   8.7   ,   2.14  ,   7.28  ,   6.29  ,   4.46  ,   1.45  ,   0.01  ,   5.58  ],\n",
       "       [  0.    ,   8.2616,   8.6585,   1.8506,   4.7365,   3.73  ,   0.4079,   4.4247,   9.785 ,   6.5239,   6.475 ,   9.7499,   0.9823],\n",
       "       [ -0.    ,   0.    ,  -9.67  ,  -1.4672,  -0.707 ,  -8.7904,   7.1843,  -8.2844,  -6.9435,  -2.5736,  -4.4294,  -4.51  ,   1.0856],\n",
       "       [ -0.    ,   0.    ,   0.    ,   9.0107,  -0.3498,   4.6514,   3.5375,   1.0875,   6.0438,   3.4221,   3.1901,   7.2672,   1.1442],\n",
       "       [ -0.    ,   0.    ,   0.    ,   0.    ,  -6.6382,  -4.9559,   1.483 ,   1.6353,  -1.1072,  -1.352 ,   0.2008,   0.7763,  -3.4248],\n",
       "       [ -0.    ,   0.    ,   0.    ,   0.    ,   0.    ,  -9.4602,  -1.1235,  -1.6681,  -3.6578,  -6.5969,   2.0701,   1.3976,   1.2834],\n",
       "       [ -0.    ,   0.    ,   0.    ,   0.    ,   0.    ,   0.    ,  -7.9104,   5.8042,  -5.9746,  -0.5763,   0.8084,   0.0938,  -5.2266],\n",
       "       [ -0.    ,   0.    ,   0.    ,   0.    ,  -0.    ,   0.    ,   0.    ,  -5.6693,  -7.5048,   3.0511,   2.7427,  -2.2313,  -0.9148],\n",
       "       [ -0.    ,   0.    ,   0.    ,   0.    ,  -0.    ,   0.    ,   0.    ,   0.    , -17.2493,   5.1464,   1.2136,   0.2861,  -2.8378],\n",
       "       [  0.    ,   0.    ,   0.    ,   0.    ,   0.    ,  -0.    ,   0.    ,   0.    ,   0.    ,  -5.6947,  -3.381 ,   1.9665,   9.6048],\n",
       "       [ -0.    ,   0.    ,   0.    ,   0.    ,  -0.    ,   0.    ,   0.    ,   0.    ,   0.    ,   0.    ,   9.4259,  -1.522 , -15.4743],\n",
       "       [  0.    ,   0.    ,   0.    ,   0.    ,  -0.    ,  -0.    ,   0.    ,   0.    ,  -0.    ,   0.    ,   0.    ,  -3.441 ,  -0.2608],\n",
       "       [  0.    ,   0.    ,   0.    ,  -0.    ,   0.    ,  -0.    ,   0.    ,   0.    ,  -0.    ,   0.    ,   0.    ,   0.    ,  13.7224]])"
      ]
     },
     "metadata": {},
     "output_type": "display_data"
    },
    {
     "data": {
      "text/plain": [
       "'Weryfikacja: P @ A ='"
      ]
     },
     "metadata": {},
     "output_type": "display_data"
    },
    {
     "data": {
      "text/plain": [
       "array([[9.67, 2.75, 6.91, 2.84, 5.17, 8.7 , 2.14, 7.28, 6.29, 4.46, 1.45, 0.01, 5.58],\n",
       "       [0.1 , 8.29, 8.73, 1.88, 4.79, 3.82, 0.43, 4.5 , 9.85, 6.57, 6.49, 9.75, 1.04],\n",
       "       [8.49, 9.44, 3.76, 2.6 , 7.86, 2.02, 9.41, 1.87, 6.9 , 6.89, 2.35, 3.79, 6.82],\n",
       "       [1.48, 3.52, 0.09, 9.5 , 1.91, 3.55, 7.15, 0.25, 7.65, 5.43, 3.91, 8.96, 2.84],\n",
       "       [8.93, 7.73, 6.27, 5.16, 0.62, 1.52, 8.71, 6.65, 8.35, 6.23, 3.85, 6.11, 3.25],\n",
       "       [9.21, 0.75, 8.72, 9.61, 5.41, 6.3 , 0.07, 8.21, 7.81, 0.12, 6.19, 6.34, 7.55],\n",
       "       [6.56, 8.3 , 3.79, 9.55, 8.17, 8.42, 2.18, 8.33, 6.2 , 9.64, 5.57, 9.63, 1.86],\n",
       "       [9.28, 3.74, 9.97, 4.77, 7.5 , 8.98, 3.79, 0.17, 3.88, 7.21, 6.96, 1.61, 8.36],\n",
       "       [2.66, 6.95, 8.  , 0.64, 2.71, 2.13, 8.13, 4.69, 1.38, 8.05, 2.98, 8.23, 3.52],\n",
       "       [4.8 , 6.9 , 0.34, 6.41, 4.89, 1.95, 2.34, 0.72, 2.07, 0.69, 1.8 , 6.56, 9.94],\n",
       "       [8.32, 8.33, 5.51, 1.15, 8.81, 4.44, 6.26, 6.02, 6.73, 0.84, 7.35, 3.96, 0.16],\n",
       "       [3.13, 7.91, 1.35, 7.44, 4.09, 1.53, 5.55, 5.77, 9.05, 6.25, 2.85, 7.01, 1.81],\n",
       "       [5.1 , 2.29, 7.79, 3.48, 3.13, 9.77, 4.54, 8.75, 4.14, 5.11, 8.14, 5.19, 8.17]])"
      ]
     },
     "metadata": {},
     "output_type": "display_data"
    },
    {
     "data": {
      "text/plain": [
       "'Weryfikacja: L @ U ='"
      ]
     },
     "metadata": {},
     "output_type": "display_data"
    },
    {
     "data": {
      "text/plain": [
       "array([[9.67, 2.75, 6.91, 2.84, 5.17, 8.7 , 2.14, 7.28, 6.29, 4.46, 1.45, 0.01, 5.58],\n",
       "       [0.1 , 8.29, 8.73, 1.88, 4.79, 3.82, 0.43, 4.5 , 9.85, 6.57, 6.49, 9.75, 1.04],\n",
       "       [8.49, 9.44, 3.76, 2.6 , 7.86, 2.02, 9.41, 1.87, 6.9 , 6.89, 2.35, 3.79, 6.82],\n",
       "       [1.48, 3.52, 0.09, 9.5 , 1.91, 3.55, 7.15, 0.25, 7.65, 5.43, 3.91, 8.96, 2.84],\n",
       "       [8.93, 7.73, 6.27, 5.16, 0.62, 1.52, 8.71, 6.65, 8.35, 6.23, 3.85, 6.11, 3.25],\n",
       "       [9.21, 0.75, 8.72, 9.61, 5.41, 6.3 , 0.07, 8.21, 7.81, 0.12, 6.19, 6.34, 7.55],\n",
       "       [6.56, 8.3 , 3.79, 9.55, 8.17, 8.42, 2.18, 8.33, 6.2 , 9.64, 5.57, 9.63, 1.86],\n",
       "       [9.28, 3.74, 9.97, 4.77, 7.5 , 8.98, 3.79, 0.17, 3.88, 7.21, 6.96, 1.61, 8.36],\n",
       "       [2.66, 6.95, 8.  , 0.64, 2.71, 2.13, 8.13, 4.69, 1.38, 8.05, 2.98, 8.23, 3.52],\n",
       "       [4.8 , 6.9 , 0.34, 6.41, 4.89, 1.95, 2.34, 0.72, 2.07, 0.69, 1.8 , 6.56, 9.94],\n",
       "       [8.32, 8.33, 5.51, 1.15, 8.81, 4.44, 6.26, 6.02, 6.73, 0.84, 7.35, 3.96, 0.16],\n",
       "       [3.13, 7.91, 1.35, 7.44, 4.09, 1.53, 5.55, 5.77, 9.05, 6.25, 2.85, 7.01, 1.81],\n",
       "       [5.1 , 2.29, 7.79, 3.48, 3.13, 9.77, 4.54, 8.75, 4.14, 5.11, 8.14, 5.19, 8.17]])"
      ]
     },
     "metadata": {},
     "output_type": "display_data"
    },
    {
     "name": "stdout",
     "output_type": "stream",
     "text": [
      "Czas wykonania: 0.001025 sekund\n"
     ]
    }
   ],
   "source": [
    "import numpy as np\n",
    "from IPython.display import display\n",
    "start = time.time()\n",
    "def lu_no_pivot(A):\n",
    "    n = A.shape[0]\n",
    "    L = np.identity(n)\n",
    "    U = A.copy().astype(float)\n",
    "\n",
    "    for i in range(n-1):\n",
    "        for j in range(i+1,n):\n",
    "            div = (U[j,i]/U[i,i])\n",
    "            L[j,i] = div\n",
    "            U[j] -= U[i]*div\n",
    "    return L, U\n",
    "\n",
    "\n",
    "def lu_pivot(A):\n",
    "    n = A.shape[0]\n",
    "    A = A.copy().astype(float)\n",
    "\n",
    "    arr = [np.identity(n)]\n",
    "    U = A.copy()\n",
    "\n",
    "    for i in range(n-1):\n",
    "        P2 = np.identity(n)\n",
    "        m = np.argmax(np.abs(U[i:,i]), axis=0) + i  # pivot wybierany na podstawie |elementów|\n",
    "        U[[i, m]] = U[[m, i]]  # zamiana wierszy\n",
    "        P2[[i, m]] = P2[[m, i]]\n",
    "        arr.append(P2)\n",
    "\n",
    "        P3 = np.identity(n)\n",
    "        for j in range(i+1,n):\n",
    "            div = (U[j,i]/U[i,i])\n",
    "            P3[j,i] = div\n",
    "            U[j] -= U[i]*div\n",
    "        arr.append(P3)\n",
    "\n",
    "    P = np.identity(n)\n",
    "    for i in range(len(arr)-2, -1, -2):\n",
    "        P = P @ arr[i]\n",
    "\n",
    "    L = np.identity(n)\n",
    "    for i in range(1, len(arr), 1):\n",
    "        L = L @ arr[i]\n",
    "    L = P @ L\n",
    "\n",
    "    return P, L, U\n",
    "\n",
    "\n",
    "\"\"\"A_screen = np.array([\n",
    "    [0, 4, 1],\n",
    "    [1, 1, 3],\n",
    "    [2, -2, 1]\n",
    "], dtype=float)\n",
    "\"\"\"\n",
    "P, L, U = lu_pivot(A)\n",
    "end = time.time() \n",
    "display(\"Macierz A (oryginalna):\", A)\n",
    "display(\"Macierz permutacji P:\", P)\n",
    "display(\"Macierz dolna L:\", L)\n",
    "display(\"Macierz górna U:\", U)\n",
    "\n",
    "display(\"Weryfikacja: P @ A =\")\n",
    "display(P @ A)\n",
    "display(\"Weryfikacja: L @ U =\")\n",
    "display(L @ U)\n",
    "print(f\"Czas wykonania: {end - start:.6f} sekund\")"
   ]
  },
  {
   "cell_type": "code",
   "execution_count": 61,
   "id": "e3886ca8",
   "metadata": {},
   "outputs": [],
   "source": [
    "b_list = [np.random.randint(1, 10, size=(R, 1)) for _ in range(4)]"
   ]
  },
  {
   "cell_type": "code",
   "execution_count": 62,
   "id": "0e7553a1",
   "metadata": {},
   "outputs": [],
   "source": [
    "\n",
    "def test_gauss_for_multiple_b(A, b_list):\n",
    "    \n",
    "    total_time = 0.0\n",
    "\n",
    "    for i, b in enumerate(b_list):\n",
    "        start = time.time()\n",
    "        x = gauss_elimination(A, b)\n",
    "        end = time.time()\n",
    "        elapsed = end - start\n",
    "        total_time += elapsed\n",
    "\n",
    "        print(f\"Rozwiązanie dla b[{i+1}]:\")\n",
    "        print(x)\n",
    "        print(f\"Czas: {elapsed:.6f} sekundy\\n\")\n",
    "\n",
    "    print(f\" Suma czasów: {total_time:.6f} sekundy\")\n",
    "    return total_time\n"
   ]
  },
  {
   "cell_type": "code",
   "execution_count": 63,
   "id": "19bb4661",
   "metadata": {},
   "outputs": [
    {
     "name": "stdout",
     "output_type": "stream",
     "text": [
      "Rozwiązanie dla b[1]:\n",
      "[-0.1709 -0.2575  0.2755  0.5809  0.4728 -1.1799  0.0179  0.7365  0.1063  0.4832  0.3182 -0.3988  0.1697]\n",
      "Czas: 0.000000 sekundy\n",
      "\n",
      "Rozwiązanie dla b[2]:\n",
      "[-0.7267  1.4345 -0.0639 -0.2173 -1.1062  1.4376  0.1101 -0.0906  0.7209 -0.7055 -0.5219 -0.1577  0.7431]\n",
      "Czas: 0.001999 sekundy\n",
      "\n",
      "Rozwiązanie dla b[3]:\n",
      "[ 0.8826 -0.3852 -0.7122 -0.7112 -0.2823 -0.5304 -0.5948  0.2248  0.5532  0.5228  0.3034  0.5845  0.7023]\n",
      "Czas: 0.000000 sekundy\n",
      "\n",
      "Rozwiązanie dla b[4]:\n",
      "[-0.1146  0.3546  0.0785 -0.0962  0.4364  0.8578 -0.0581 -0.4461  0.3108 -0.1039 -0.6393  0.1873  0.1705]\n",
      "Czas: 0.001426 sekundy\n",
      "\n",
      " Suma czasów: 0.003426 sekundy\n",
      "0.00342559814453125\n"
     ]
    }
   ],
   "source": [
    "total_time = test_gauss_for_multiple_b(A, b_list)\n",
    "print(total_time)"
   ]
  },
  {
   "cell_type": "code",
   "execution_count": 66,
   "id": "15ff246b",
   "metadata": {},
   "outputs": [],
   "source": [
    "def lu_solve_multiple_b(A: np.ndarray, b_list: list[np.ndarray]) -> float:\n",
    "    start = time.time()\n",
    "\n",
    "    R = A.shape[0]\n",
    "    A_work = A.copy().astype(float)\n",
    "    O = np.identity(R)\n",
    "\n",
    "    # 1. ROZKŁAD LU bez pivotingu (tylko raz)\n",
    "    for i in range(R - 1):\n",
    "        for j in range(i + 1, R):\n",
    "            div = A_work[j, i] / A_work[i, i]\n",
    "            O[j, i] = div\n",
    "            A_work[j] -= A_work[i] * div\n",
    "\n",
    "    L = O\n",
    "    U = A_work\n",
    "\n",
    "    # 2. Dla każdego wektora b rozwiązujemy LUx = b\n",
    "    for idx, B in enumerate(b_list):\n",
    "        B_work = B.copy().astype(float)\n",
    "\n",
    "        # a) Rozwiązanie Lc = b (przekształcenie w dół)\n",
    "        C = np.zeros((R, 1))\n",
    "        C[0] = B_work[0]\n",
    "        for i in range(1, R):\n",
    "            known_c_sum = np.dot(L[i, :i], C[:i, 0])\n",
    "            C[i] = B_work[i] - known_c_sum\n",
    "\n",
    "        # b) Rozwiązanie Ux = c (podstawianie wsteczne)\n",
    "        x = np.zeros((R, 1))\n",
    "        x[-1, 0] = C[-1, 0] / U[-1, -1]\n",
    "        for i in range(R - 2, -1, -1):\n",
    "            known_xu_sum = np.dot(U[i, i + 1:], x[i + 1:, 0])\n",
    "            x[i, 0] = (C[i, 0] - known_xu_sum) / U[i, i]\n",
    "\n",
    "        print(f\"Rozwiązanie dla b[{idx+1}]:\\n{x}\\n\")\n",
    "\n",
    "    end = time.time()\n",
    "    total_time = end - start\n",
    "    print(f\" Suma czasów: {total_time:.6f} sekundy\")\n",
    "    return total_time"
   ]
  },
  {
   "cell_type": "code",
   "execution_count": 67,
   "id": "5befb67d",
   "metadata": {},
   "outputs": [
    {
     "name": "stdout",
     "output_type": "stream",
     "text": [
      "Rozwiązanie dla b[1]:\n",
      "[[-0.1709]\n",
      " [-0.2575]\n",
      " [ 0.2755]\n",
      " [ 0.5809]\n",
      " [ 0.4728]\n",
      " [-1.1799]\n",
      " [ 0.0179]\n",
      " [ 0.7365]\n",
      " [ 0.1063]\n",
      " [ 0.4832]\n",
      " [ 0.3182]\n",
      " [-0.3988]\n",
      " [ 0.1697]]\n",
      "\n",
      "Rozwiązanie dla b[2]:\n",
      "[[-0.7267]\n",
      " [ 1.4345]\n",
      " [-0.0639]\n",
      " [-0.2173]\n",
      " [-1.1062]\n",
      " [ 1.4376]\n",
      " [ 0.1101]\n",
      " [-0.0906]\n",
      " [ 0.7209]\n",
      " [-0.7055]\n",
      " [-0.5219]\n",
      " [-0.1577]\n",
      " [ 0.7431]]\n",
      "\n",
      "Rozwiązanie dla b[3]:\n",
      "[[ 0.8826]\n",
      " [-0.3852]\n",
      " [-0.7122]\n",
      " [-0.7112]\n",
      " [-0.2823]\n",
      " [-0.5304]\n",
      " [-0.5948]\n",
      " [ 0.2248]\n",
      " [ 0.5532]\n",
      " [ 0.5228]\n",
      " [ 0.3034]\n",
      " [ 0.5845]\n",
      " [ 0.7023]]\n",
      "\n",
      "Rozwiązanie dla b[4]:\n",
      "[[-0.1146]\n",
      " [ 0.3546]\n",
      " [ 0.0785]\n",
      " [-0.0962]\n",
      " [ 0.4364]\n",
      " [ 0.8578]\n",
      " [-0.0581]\n",
      " [-0.4461]\n",
      " [ 0.3108]\n",
      " [-0.1039]\n",
      " [-0.6393]\n",
      " [ 0.1873]\n",
      " [ 0.1705]]\n",
      "\n",
      " Suma czasów: 0.001007 sekundy\n"
     ]
    },
    {
     "data": {
      "text/plain": [
       "0.0010066032409667969"
      ]
     },
     "execution_count": 67,
     "metadata": {},
     "output_type": "execute_result"
    }
   ],
   "source": [
    "\n",
    "lu_solve_multiple_b(A, b_list)"
   ]
  }
 ],
 "metadata": {
  "kernelspec": {
   "display_name": "Python 3",
   "language": "python",
   "name": "python3"
  },
  "language_info": {
   "codemirror_mode": {
    "name": "ipython",
    "version": 3
   },
   "file_extension": ".py",
   "mimetype": "text/x-python",
   "name": "python",
   "nbconvert_exporter": "python",
   "pygments_lexer": "ipython3",
   "version": "3.11.9"
  }
 },
 "nbformat": 4,
 "nbformat_minor": 5
}
