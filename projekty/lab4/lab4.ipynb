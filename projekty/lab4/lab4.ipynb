{
 "cells": [
  {
   "cell_type": "markdown",
   "id": "44061096",
   "metadata": {},
   "source": [
    "# Rozkład SVD krok po kroku\n",
    "Program który dla macierzy prostokątnej A o rozmiarze n wierszy i m kolumn \n",
    "oblicza SVD $[A=USV^T]$"
   ]
  },
  {
   "cell_type": "code",
   "execution_count": 1,
   "id": "65710e99",
   "metadata": {},
   "outputs": [],
   "source": [
    "import numpy as np\n",
    "import matplotlib.pyplot as plt\n",
    "import scipy.linalg as la\n",
    "plt.rcParams['figure.figsize'] = (6,4)\n"
   ]
  },
  {
   "cell_type": "markdown",
   "id": "6cba6293",
   "metadata": {},
   "source": [
    "## 1️ Wprowadzenie danych wejściowych - wypisanie macierzy A"
   ]
  },
  {
   "cell_type": "code",
   "execution_count": 2,
   "id": "7bc80161",
   "metadata": {},
   "outputs": [],
   "source": [
    "import matplotlib.pyplot as plt"
   ]
  },
  {
   "cell_type": "code",
   "execution_count": 3,
   "id": "15ce95cc",
   "metadata": {},
   "outputs": [
    {
     "data": {
      "text/plain": [
       "array([[ 1.76405235,  0.40015721,  0.97873798,  2.2408932 ],\n",
       "       [ 1.86755799, -0.97727788,  0.95008842, -0.15135721],\n",
       "       [-0.10321885,  0.4105985 ,  0.14404357,  1.45427351],\n",
       "       [ 0.76103773,  0.12167502,  0.44386323,  0.33367433],\n",
       "       [ 1.49407907, -0.20515826,  0.3130677 , -0.85409574],\n",
       "       [-2.55298982,  0.6536186 ,  0.8644362 , -0.74216502]])"
      ]
     },
     "execution_count": 3,
     "metadata": {},
     "output_type": "execute_result"
    }
   ],
   "source": [
    "np.random.seed(0)\n",
    "n, m = 6, 4  \n",
    "A = np.random.randn(n, m)\n",
    "A"
   ]
  },
  {
   "cell_type": "markdown",
   "id": "31ca1fee",
   "metadata": {},
   "source": [
    "## 2 Obliczenie macierzy $AA^T$"
   ]
  },
  {
   "cell_type": "code",
   "execution_count": 4,
   "id": "ee9d1408",
   "metadata": {},
   "outputs": [
    {
     "data": {
      "text/plain": [
       "array([[ 9.25153684,  3.49411755,  3.38207302,  2.57335386,  0.94601205,\n",
       "        -5.05911349],\n",
       "       [ 3.49411755,  5.36842191, -0.67729667,  1.67357708,  3.41749149,\n",
       "        -4.47300068],\n",
       "       [ 3.38207302, -0.67729667,  2.31490524,  0.52059552, -1.43544822,\n",
       "        -0.42290296],\n",
       "       [ 2.57335386,  1.67357708,  0.52059552,  0.90233635,  0.96605732,\n",
       "        -1.72734248],\n",
       "       [ 0.94601205,  3.41749149, -1.43544822,  0.96605732,  3.10185311,\n",
       "        -3.04395688],\n",
       "       [-5.05911349, -4.47300068, -0.42290296, -1.72734248, -3.04395688,\n",
       "         8.24303313]])"
      ]
     },
     "execution_count": 4,
     "metadata": {},
     "output_type": "execute_result"
    }
   ],
   "source": [
    "AAT = A @ A.T\n",
    "AAT"
   ]
  },
  {
   "cell_type": "markdown",
   "id": "59a56ff0",
   "metadata": {},
   "source": [
    "## 3 Wartości własne i wektory własne macierzy $AA^T$"
   ]
  },
  {
   "cell_type": "code",
   "execution_count": 5,
   "id": "60fb0dcd",
   "metadata": {},
   "outputs": [
    {
     "name": "stdout",
     "output_type": "stream",
     "text": [
      "Wartości własne λᵢ macierzy A·Aᵀ:\n",
      "[ 1.86722494e+01  7.61863674e+00  2.46396324e+00  4.27237224e-01\n",
      "  6.94573724e-16 -1.17867187e-17]\n",
      "\n",
      "Wektory własne Uᵢ (kolumny macierzy U):\n",
      "[[-0.59390984 -0.57165236  0.25529267 -0.18762865  0.46915437  0.        ]\n",
      " [-0.43689271  0.36888928  0.48893504  0.64652746 -0.11107838  0.06043033]\n",
      " [-0.10435984 -0.52391629 -0.07491713  0.12325528 -0.68042914  0.48045029]\n",
      " [-0.20070058 -0.0455066   0.20141986 -0.28402251 -0.53271118 -0.74338985]\n",
      " [-0.24931362  0.46218713  0.22349074 -0.66809308 -0.14125073  0.45604553]\n",
      " [ 0.58571911 -0.21669841  0.77436266 -0.06774007  0.02896509  0.07006921]]\n"
     ]
    }
   ],
   "source": [
    "wartosci_wlasne, wektory_wlasne = la.eigh(AAT)\n",
    "\n",
    "indeksy_sortowania = np.argsort(wartosci_wlasne)[::-1]\n",
    "\n",
    "wartosci_wlasne = wartosci_wlasne[indeksy_sortowania]\n",
    "wektory_wlasne = wektory_wlasne[:, indeksy_sortowania]\n",
    "\n",
    "\n",
    "print(\"Wartości własne λᵢ macierzy A·Aᵀ:\")\n",
    "print(wartosci_wlasne)\n",
    "\n",
    "print(\"\\nWektory własne Uᵢ (kolumny macierzy U):\")\n",
    "print(wektory_wlasne)"
   ]
  },
  {
   "cell_type": "markdown",
   "id": "0173adf7",
   "metadata": {},
   "source": [
    "## 4 Budowa macierzy $U$ oraz przekątnej $S$ (pierwiastki z λ)"
   ]
  },
  {
   "cell_type": "code",
   "execution_count": 9,
   "id": "8f4ccce8",
   "metadata": {},
   "outputs": [
    {
     "name": "stdout",
     "output_type": "stream",
     "text": [
      "Macierz U:\n",
      "[[-0.59390984 -0.57165236  0.25529267 -0.18762865  0.46915437  0.        ]\n",
      " [-0.43689271  0.36888928  0.48893504  0.64652746 -0.11107838  0.06043033]\n",
      " [-0.10435984 -0.52391629 -0.07491713  0.12325528 -0.68042914  0.48045029]\n",
      " [-0.20070058 -0.0455066   0.20141986 -0.28402251 -0.53271118 -0.74338985]\n",
      " [-0.24931362  0.46218713  0.22349074 -0.66809308 -0.14125073  0.45604553]\n",
      " [ 0.58571911 -0.21669841  0.77436266 -0.06774007  0.02896509  0.07006921]]\n",
      "\n",
      "Macierz S:\n",
      "[[4.32113982 0.         0.         0.        ]\n",
      " [0.         2.76018781 0.         0.        ]\n",
      " [0.         0.         1.56970164 0.        ]\n",
      " [0.         0.         0.         0.65363386]\n",
      " [0.         0.         0.         0.        ]\n",
      " [0.         0.         0.         0.        ]]\n"
     ]
    }
   ],
   "source": [
    "S_diag = np.sqrt(np.clip(wartosci_wlasne, 0, None))  \n",
    "S = np.zeros((n, m))\n",
    "np.fill_diagonal(S, S_diag[:min(n, m)])\n",
    "print('Macierz U:')\n",
    "print(wektory_wlasne)\n",
    "print('\\nMacierz S:')\n",
    "print(S)"
   ]
  },
  {
   "cell_type": "markdown",
   "id": "dfe884f3",
   "metadata": {},
   "source": [
    "## 5 Obliczenie macierzy $V$ z relacji $V = A^T U S^{-1}$"
   ]
  },
  {
   "cell_type": "code",
   "execution_count": null,
   "id": "5c5ef42d",
   "metadata": {},
   "outputs": [
    {
     "name": "stdout",
     "output_type": "stream",
     "text": [
      "Macierz V:\n",
      "[[-0.89638583  0.34190289  0.07551881 -0.27183039]\n",
      " [ 0.12867524 -0.37909523 -0.04992386 -0.91500661]\n",
      " [-0.15556544 -0.12582912 -0.97621261  0.08351864]\n",
      " [-0.39463212 -0.8506211   0.19701131  0.28617438]]\n"
     ]
    }
   ],
   "source": [
    "# Wyciągnij tylko te kolumny U, które odpowiadają niezerowym wartościom singularnym\n",
    "r = np.sum(S_diag > 1e-12)  # liczba niezerowych wartości\n",
    "U_r = wektory_wlasne[:, :r]      \n",
    "S_r_inv = np.diag(1.0 / S_diag[:r])  \n",
    "\n",
    "\n",
    "V = A.T @ U_r @ S_r_inv           \n",
    "\n",
    "\n",
    "V, _ = np.linalg.qr(V)\n",
    "\n",
    "print(\"Macierz V:\")\n",
    "print(V)\n"
   ]
  },
  {
   "cell_type": "markdown",
   "id": "46e9dd8a",
   "metadata": {},
   "source": [
    "## 6 Wizualizacja macierzy $V$ (wierszami)"
   ]
  },
  {
   "cell_type": "code",
   "execution_count": 16,
   "id": "70f98fae",
   "metadata": {},
   "outputs": [
    {
     "name": "stdout",
     "output_type": "stream",
     "text": [
      "Macierz V wypisana wierszami:\n",
      "V_1ᵀ = [-0.8964  0.3419  0.0755 -0.2718]\n",
      "V_2ᵀ = [ 0.1287 -0.3791 -0.0499 -0.915 ]\n",
      "V_3ᵀ = [-0.1556 -0.1258 -0.9762  0.0835]\n",
      "V_4ᵀ = [-0.3946 -0.8506  0.197   0.2862]\n"
     ]
    }
   ],
   "source": [
    "print(\"Macierz V wypisana wierszami:\")\n",
    "for i, wiersz in enumerate(V):\n",
    "    print(f\"V_{i+1}ᵀ =\", np.round(wiersz, 4))  # zaokrąglenie do 4 miejsc"
   ]
  },
  {
   "cell_type": "markdown",
   "id": "09d406e1",
   "metadata": {},
   "source": [
    "## 7 Obliczenie macierzy $A^T A$"
   ]
  },
  {
   "cell_type": "code",
   "execution_count": 17,
   "id": "d7b8ad50",
   "metadata": {},
   "outputs": [
    {
     "data": {
      "text/plain": [
       "array([[15.93951535, -3.04421137,  2.08466999,  4.39286802],\n",
       "       [-3.04421137,  1.76790097,  0.07708295,  1.37248191],\n",
       "       [ 2.08466999,  0.07708295,  2.92362049,  1.49808498],\n",
       "       [ 4.39286802,  1.37248191,  1.49808498,  8.55104977]])"
      ]
     },
     "execution_count": 17,
     "metadata": {},
     "output_type": "execute_result"
    }
   ],
   "source": [
    "ATA = A.T @ A\n",
    "ATA"
   ]
  },
  {
   "cell_type": "markdown",
   "id": "8fa475d8",
   "metadata": {},
   "source": [
    "## 8 Wartości własne i wektory własne macierzy $A^T A$"
   ]
  },
  {
   "cell_type": "code",
   "execution_count": 18,
   "id": "44d030c0",
   "metadata": {},
   "outputs": [
    {
     "name": "stdout",
     "output_type": "stream",
     "text": [
      "Wartości własne λᵢ macierzy Aᵀ·A:\n",
      "[18.67224937  7.61863674  2.46396324  0.42723722]\n",
      "\n",
      "Wektory własne Vᵢ (kolumny macierzy V):\n",
      "[[ 0.89638583  0.34190289  0.07551881 -0.27183039]\n",
      " [-0.12867524 -0.37909523 -0.04992386 -0.91500661]\n",
      " [ 0.15556544 -0.12582912 -0.97621261  0.08351864]\n",
      " [ 0.39463212 -0.8506211   0.19701131  0.28617438]]\n"
     ]
    }
   ],
   "source": [
    "ATA = A.T @ A\n",
    "\n",
    "wartosci_wlasne_V, wektory_wlasne_V = la.eigh(ATA)\n",
    "\n",
    "indeksy_sortowania_V = np.argsort(wartosci_wlasne_V)[::-1]\n",
    "wartosci_wlasne_V = wartosci_wlasne_V[indeksy_sortowania_V]\n",
    "wektory_wlasne_V = wektory_wlasne_V[:, indeksy_sortowania_V]\n",
    "\n",
    "print(\"Wartości własne λᵢ macierzy Aᵀ·A:\")\n",
    "print(wartosci_wlasne_V)\n",
    "\n",
    "print(\"\\nWektory własne Vᵢ (kolumny macierzy V):\")\n",
    "print(wektory_wlasne_V)"
   ]
  },
  {
   "cell_type": "markdown",
   "id": "ec1893ac",
   "metadata": {},
   "source": [
    "## 9 Budowa macierzy $V$ oraz przekątnej $S$ (pierwiastki z λ)"
   ]
  },
  {
   "cell_type": "code",
   "execution_count": 19,
   "id": "732dbd03",
   "metadata": {},
   "outputs": [
    {
     "name": "stdout",
     "output_type": "stream",
     "text": [
      "Macierz wektorów własnych Vᵢᵀ (wierszami):\n",
      "V_1ᵀ = [ 0.8964 -0.1287  0.1556  0.3946]\n",
      "V_2ᵀ = [ 0.3419 -0.3791 -0.1258 -0.8506]\n",
      "V_3ᵀ = [ 0.0755 -0.0499 -0.9762  0.197 ]\n",
      "V_4ᵀ = [-0.2718 -0.915   0.0835  0.2862]\n",
      "\n",
      "Przekątna macierzy S (pierwiastki z λᵢ):\n",
      "[4.3211 2.7602 1.5697 0.6536]\n"
     ]
    }
   ],
   "source": [
    "# 1. Wypisz macierz Vᵀ – czyli wektory własne Vᵢ jako wiersze\n",
    "print(\"Macierz wektorów własnych Vᵢᵀ (wierszami):\")\n",
    "for i, kolumna in enumerate(wektory_wlasne_V.T):  # kolumny jako wiersze\n",
    "    print(f\"V_{i+1}ᵀ =\", np.round(kolumna, 4))\n",
    "\n",
    "# 2. Oblicz macierz diagonalną S na podstawie λᵢ (dla Aᵀ·A)\n",
    "S_diag_V = np.sqrt(np.clip(wartosci_wlasne_V, 0, None))  # dla bezpieczeństwa\n",
    "S_macierz_V = np.diag(S_diag_V)\n",
    "\n",
    "# 3. Wypisz przekątną macierzy S\n",
    "print(\"\\nPrzekątna macierzy S (pierwiastki z λᵢ):\")\n",
    "print(np.round(S_diag_V, 4))"
   ]
  },
  {
   "cell_type": "markdown",
   "id": "b5b16b86",
   "metadata": {},
   "source": [
    "## 10 Obliczenie macierzy **U** z relacji `U = A · V · S⁻¹"
   ]
  },
  {
   "cell_type": "code",
   "execution_count": 22,
   "id": "c4342bcf",
   "metadata": {},
   "outputs": [],
   "source": [
    "\n",
    "r = np.sum(wartosci_wlasne_V > 1e-12)\n",
    "\n",
    "\n",
    "V_r = wektory_wlasne_V[:, :r]\n",
    "S_r_inv = np.diag(1.0 / np.sqrt(wartosci_wlasne_V[:r]))\n",
    "\n",
    "\n",
    "U_odtworzone = A @ V_r @ S_r_inv\n",
    "\n",
    "\n"
   ]
  },
  {
   "cell_type": "markdown",
   "id": "190b5ac4",
   "metadata": {},
   "source": [
    "## 11 macierz [U1U2...U-m-1Um]"
   ]
  },
  {
   "cell_type": "code",
   "execution_count": 23,
   "id": "fc8e89f6",
   "metadata": {},
   "outputs": [
    {
     "name": "stdout",
     "output_type": "stream",
     "text": [
      "Macierz U obliczona z AVS⁻¹:\n",
      "[[ 0.5939 -0.5717 -0.2553 -0.1876]\n",
      " [ 0.4369  0.3689 -0.4889  0.6465]\n",
      " [ 0.1044 -0.5239  0.0749  0.1233]\n",
      " [ 0.2007 -0.0455 -0.2014 -0.284 ]\n",
      " [ 0.2493  0.4622 -0.2235 -0.6681]\n",
      " [-0.5857 -0.2167 -0.7744 -0.0677]]\n"
     ]
    }
   ],
   "source": [
    "print(\"Macierz U obliczona z AVS⁻¹:\")\n",
    "print(np.round(U_odtworzone, 4))"
   ]
  },
  {
   "cell_type": "markdown",
   "id": "2aaeecb1",
   "metadata": {},
   "source": [
    "## 12 Porównanie wynikowych dekompozycji"
   ]
  },
  {
   "cell_type": "code",
   "execution_count": 32,
   "id": "32dda7fa",
   "metadata": {},
   "outputs": [
    {
     "name": "stdout",
     "output_type": "stream",
     "text": [
      "||U (z AVS⁻¹) - U (z AAᵀ)|| = 5.462937011122305e-15\n"
     ]
    }
   ],
   "source": [
    "U_spektralna = wektory_wlasne[:, :r]\n",
    "U_z_AVS = U_odtworzone[:, :r]\n",
    "\n",
    "# Dopasuj znaki kolumn U_z_AVS do U_spektralna\n",
    "U_z_AVS_aligned = U_z_AVS.copy()\n",
    "\n",
    "for i in range(r):\n",
    "    # Jeśli kierunki wektorów są przeciwne, zmień znak\n",
    "    if np.dot(U_z_AVS[:, i], U_spektralna[:, i]) < 0:\n",
    "        U_z_AVS_aligned[:, i] *= -1\n",
    "\n",
    "# Teraz porównanie ma sens\n",
    "print(\"||U (z AVS⁻¹) - U (z AAᵀ)|| =\", np.linalg.norm(U_z_AVS_aligned - U_spektralna))\n"
   ]
  },
  {
   "cell_type": "markdown",
   "id": "a41e3436",
   "metadata": {},
   "source": [
    "## 13 Wymiary przestrzeni obrazów i jądra\n",
    "- **R(A)** (range) – przestrzeń kolumn, ranga = liczba niezerowych wartości singularnych.\n",
    "- **N(A)** (null space) – jądro operatora."
   ]
  },
  {
   "cell_type": "code",
   "execution_count": 33,
   "id": "65c73754",
   "metadata": {},
   "outputs": [
    {
     "name": "stdout",
     "output_type": "stream",
     "text": [
      "dim R(A) = 4\n",
      "dim N(A) = 0\n"
     ]
    }
   ],
   "source": [
    "rank = np.linalg.matrix_rank(A, tol=1e-10)\n",
    "dim_range = rank\n",
    "dim_null = m - rank\n",
    "print(f'dim R(A) = {dim_range}')\n",
    "print(f'dim N(A) = {dim_null}')"
   ]
  }
 ],
 "metadata": {
  "kernelspec": {
   "display_name": "Python 3",
   "language": "python",
   "name": "python3"
  },
  "language_info": {
   "codemirror_mode": {
    "name": "ipython",
    "version": 3
   },
   "file_extension": ".py",
   "mimetype": "text/x-python",
   "name": "python",
   "nbconvert_exporter": "python",
   "pygments_lexer": "ipython3",
   "version": "3.11.9"
  }
 },
 "nbformat": 4,
 "nbformat_minor": 5
}
